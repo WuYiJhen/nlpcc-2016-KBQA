{
 "cells": [
  {
   "cell_type": "markdown",
   "metadata": {},
   "source": [
    "## 1. 生成訓練資料集與測試資料集"
   ]
  },
  {
   "cell_type": "markdown",
   "metadata": {},
   "source": [
    "### Training data"
   ]
  },
  {
   "cell_type": "markdown",
   "metadata": {},
   "source": [
    "#### 原先訓練集資料只有 question 和 answer ，因此我下載含有 triple 的訓練資料集。\n",
    "#### 來源 : https://github.com/jkszw2014/bert-kbqa-NLPCC2017/blob/master/NER_BERT-BiLSTM-CRF/NLPCC2016KBQA/nlpcc-iccpol-2016.kbqa.training-data"
   ]
  },
  {
   "cell_type": "code",
   "execution_count": 1,
   "metadata": {},
   "outputs": [],
   "source": [
    "# coding:utf-8\n",
    "import sys\n",
    "import os\n",
    "import pandas as pd\n",
    "import numpy as np\n",
    "\n",
    "data_type = \"training\"\n",
    "file = \"nlpcc-iccpol-2016.kbqa.\"+data_type+\"-data\"\n",
    "question_str = \"<question\"\n",
    "triple_str = \"<triple\"\n",
    "answer_str = \"<answer\"\n",
    "start_str = \"=============\"\n",
    "\n",
    "\n",
    "q_t_a_list = []\n",
    "relation_list = []\n",
    "seq_q_list = []\n",
    "seq_tag_list = []\n",
    "\n",
    "with open(file,'r', encoding=\"utf-8\") as f:\n",
    "    q_str = \"\"\n",
    "    t_str = \"\"\n",
    "    a_str = \"\"\n",
    "\n",
    "    for line in f:\n",
    "        if question_str in line:\n",
    "            q_str = line.strip()\n",
    "        if triple_str in line:\n",
    "            t_str = line.strip()\n",
    "        if answer_str in line:\n",
    "            a_str = line.strip()\n",
    "\n",
    "        if start_str in line: #new question answer triple\n",
    "            entities = t_str.split(\"|||\")[0].split(\">\")[1].strip()\n",
    "            relation = t_str.split(\"||| \")[1].strip()\n",
    "            q_str = q_str.split(\">\")[1].replace(\" \",\"\").strip()\n",
    "            if entities in q_str:\n",
    "                q_list = list(q_str)\n",
    "                seq_q_list.extend(q_list)\n",
    "                seq_q_list.extend([\" \"])\n",
    "                \n",
    "                tag_list = ['O' for i in range(len(q_list))]\n",
    "                tag_start_index = q_str.find(entities)\n",
    "                for i in range(tag_start_index, tag_start_index+len(entities)):\n",
    "                    if tag_start_index == i:\n",
    "                        tag_list[i] = 'B-LOC'\n",
    "                    else:\n",
    "                        tag_list[i] = 'I-LOC'\n",
    "                seq_tag_list.extend(tag_list)\n",
    "                seq_tag_list.extend([\" \"])\n",
    "                \n",
    "            else:\n",
    "                pass\n",
    "            q_t_a_list.append([q_str.encode(\"utf-8\"), t_str, a_str])\n",
    "            relation_list.append(relation)"
   ]
  },
  {
   "cell_type": "code",
   "execution_count": 2,
   "metadata": {},
   "outputs": [],
   "source": [
    "NER_training_data = pd.DataFrame(columns = ['question', 'tag' , 'entity', 'purpose', 'relation'])\n",
    "\n",
    "k = 0\n",
    "\n",
    "Q, T = [], []\n",
    "\n",
    "j = 0\n",
    "\n",
    "for i in range(len(seq_q_list)) :\n",
    "     \n",
    "    if seq_q_list[i] == ' ' :\n",
    "        \n",
    "        P = np.array(Q)[np.array(T) == 'O'].tolist()\n",
    "        E = np.array(Q)[np.array(T) != 'O'].tolist()\n",
    "        E = ''.join(E)\n",
    "        \n",
    "        Q = [Q]\n",
    "        Q.append(T)\n",
    "        Q.append(E)\n",
    "        Q.append(P)\n",
    "        Q.append(relation_list[j])\n",
    "        \n",
    "        j += 1\n",
    "        \n",
    "        NER_training_data.loc[k] = Q\n",
    "        \n",
    "        Q, T = [], []\n",
    "        \n",
    "        k += 1\n",
    "        \n",
    "    else :\n",
    "        \n",
    "        Q.append(seq_q_list[i])\n",
    "        \n",
    "        T.append(seq_tag_list[i])"
   ]
  },
  {
   "cell_type": "code",
   "execution_count": 3,
   "metadata": {},
   "outputs": [
    {
     "data": {
      "text/html": [
       "<div>\n",
       "<style scoped>\n",
       "    .dataframe tbody tr th:only-of-type {\n",
       "        vertical-align: middle;\n",
       "    }\n",
       "\n",
       "    .dataframe tbody tr th {\n",
       "        vertical-align: top;\n",
       "    }\n",
       "\n",
       "    .dataframe thead th {\n",
       "        text-align: right;\n",
       "    }\n",
       "</style>\n",
       "<table border=\"1\" class=\"dataframe\">\n",
       "  <thead>\n",
       "    <tr style=\"text-align: right;\">\n",
       "      <th></th>\n",
       "      <th>question</th>\n",
       "      <th>tag</th>\n",
       "      <th>entity</th>\n",
       "      <th>purpose</th>\n",
       "      <th>relation</th>\n",
       "    </tr>\n",
       "  </thead>\n",
       "  <tbody>\n",
       "    <tr>\n",
       "      <th>0</th>\n",
       "      <td>[《, 机, 械, 设, 计, 基, 础, 》, 这, 本, 书, 的, 作, 者, 是, ...</td>\n",
       "      <td>[O, B-LOC, I-LOC, I-LOC, I-LOC, I-LOC, I-LOC, ...</td>\n",
       "      <td>机械设计基础</td>\n",
       "      <td>[《, 》, 这, 本, 书, 的, 作, 者, 是, 谁, ？]</td>\n",
       "      <td>作者</td>\n",
       "    </tr>\n",
       "    <tr>\n",
       "      <th>1</th>\n",
       "      <td>[《, 高, 等, 数, 学, 》, 是, 哪, 个, 出, 版, 社, 出, 版, 的, ？]</td>\n",
       "      <td>[O, B-LOC, I-LOC, I-LOC, I-LOC, O, O, O, O, O,...</td>\n",
       "      <td>高等数学</td>\n",
       "      <td>[《, 》, 是, 哪, 个, 出, 版, 社, 出, 版, 的, ？]</td>\n",
       "      <td>出版社</td>\n",
       "    </tr>\n",
       "    <tr>\n",
       "      <th>2</th>\n",
       "      <td>[《, 线, 性, 代, 数, 》, 这, 本, 书, 的, 出, 版, 时, 间, 是, ...</td>\n",
       "      <td>[O, B-LOC, I-LOC, I-LOC, I-LOC, O, O, O, O, O,...</td>\n",
       "      <td>线性代数</td>\n",
       "      <td>[《, 》, 这, 本, 书, 的, 出, 版, 时, 间, 是, 什, 么, ？]</td>\n",
       "      <td>出版时间</td>\n",
       "    </tr>\n",
       "    <tr>\n",
       "      <th>3</th>\n",
       "      <td>[安, 德, 烈, 是, 哪, 个, 国, 家, 的, 人, 呢, ？]</td>\n",
       "      <td>[B-LOC, I-LOC, I-LOC, O, O, O, O, O, O, O, O, O]</td>\n",
       "      <td>安德烈</td>\n",
       "      <td>[是, 哪, 个, 国, 家, 的, 人, 呢, ？]</td>\n",
       "      <td>国籍</td>\n",
       "    </tr>\n",
       "    <tr>\n",
       "      <th>4</th>\n",
       "      <td>[《, 线, 性, 代, 数, 》, 的, i, s, b, n, 码, 是, 什, 么, ？]</td>\n",
       "      <td>[O, B-LOC, I-LOC, I-LOC, I-LOC, O, O, O, O, O,...</td>\n",
       "      <td>线性代数</td>\n",
       "      <td>[《, 》, 的, i, s, b, n, 码, 是, 什, 么, ？]</td>\n",
       "      <td>isbn</td>\n",
       "    </tr>\n",
       "  </tbody>\n",
       "</table>\n",
       "</div>"
      ],
      "text/plain": [
       "                                            question  \\\n",
       "0  [《, 机, 械, 设, 计, 基, 础, 》, 这, 本, 书, 的, 作, 者, 是, ...   \n",
       "1   [《, 高, 等, 数, 学, 》, 是, 哪, 个, 出, 版, 社, 出, 版, 的, ？]   \n",
       "2  [《, 线, 性, 代, 数, 》, 这, 本, 书, 的, 出, 版, 时, 间, 是, ...   \n",
       "3               [安, 德, 烈, 是, 哪, 个, 国, 家, 的, 人, 呢, ？]   \n",
       "4   [《, 线, 性, 代, 数, 》, 的, i, s, b, n, 码, 是, 什, 么, ？]   \n",
       "\n",
       "                                                 tag  entity  \\\n",
       "0  [O, B-LOC, I-LOC, I-LOC, I-LOC, I-LOC, I-LOC, ...  机械设计基础   \n",
       "1  [O, B-LOC, I-LOC, I-LOC, I-LOC, O, O, O, O, O,...    高等数学   \n",
       "2  [O, B-LOC, I-LOC, I-LOC, I-LOC, O, O, O, O, O,...    线性代数   \n",
       "3   [B-LOC, I-LOC, I-LOC, O, O, O, O, O, O, O, O, O]     安德烈   \n",
       "4  [O, B-LOC, I-LOC, I-LOC, I-LOC, O, O, O, O, O,...    线性代数   \n",
       "\n",
       "                                      purpose relation  \n",
       "0           [《, 》, 这, 本, 书, 的, 作, 者, 是, 谁, ？]       作者  \n",
       "1        [《, 》, 是, 哪, 个, 出, 版, 社, 出, 版, 的, ？]      出版社  \n",
       "2  [《, 》, 这, 本, 书, 的, 出, 版, 时, 间, 是, 什, 么, ？]     出版时间  \n",
       "3                 [是, 哪, 个, 国, 家, 的, 人, 呢, ？]       国籍  \n",
       "4        [《, 》, 的, i, s, b, n, 码, 是, 什, 么, ？]     isbn  "
      ]
     },
     "execution_count": 3,
     "metadata": {},
     "output_type": "execute_result"
    }
   ],
   "source": [
    "NER_training_data.head()"
   ]
  },
  {
   "cell_type": "code",
   "execution_count": 4,
   "metadata": {},
   "outputs": [],
   "source": [
    "NER_training_data.to_csv('04_NER_training_data.csv', index = False, encoding='utf_8_sig')"
   ]
  },
  {
   "cell_type": "markdown",
   "metadata": {},
   "source": [
    "### Testing data"
   ]
  },
  {
   "cell_type": "code",
   "execution_count": 5,
   "metadata": {},
   "outputs": [],
   "source": [
    "\n",
    "file = '04_Kbqa.testing-data'\n",
    "question_str = \"<question\"\n",
    "triple_str = \"<triple\"\n",
    "answer_str = \"<answer\"\n",
    "start_str = \"=============\"\n",
    "\n",
    "q_t_a_list = []\n",
    "seq_q_list = []\n",
    "seq_tag_list = []\n",
    "\n",
    "with open(file,'r', encoding=\"utf-8\") as f:\n",
    "    q_str = \"\"\n",
    "    t_str = \"\"\n",
    "    a_str = \"\"\n",
    "\n",
    "    for line in f:\n",
    "        if question_str in line:\n",
    "            q_str = line.strip()\n",
    "        if triple_str in line:\n",
    "            t_str = line.strip()\n",
    "        if answer_str in line:\n",
    "            a_str = line.strip()\n",
    "\n",
    "        if start_str in line: #new question answer triple\n",
    "            q_str = q_str.split(\">\")[1].replace(\" \",\"\").strip()\n",
    "            seq_q_list.append(list(q_str))"
   ]
  },
  {
   "cell_type": "code",
   "execution_count": 6,
   "metadata": {},
   "outputs": [],
   "source": [
    "NER_testing_data = pd.DataFrame({'question':seq_q_list})"
   ]
  },
  {
   "cell_type": "code",
   "execution_count": 7,
   "metadata": {},
   "outputs": [
    {
     "data": {
      "text/html": [
       "<div>\n",
       "<style scoped>\n",
       "    .dataframe tbody tr th:only-of-type {\n",
       "        vertical-align: middle;\n",
       "    }\n",
       "\n",
       "    .dataframe tbody tr th {\n",
       "        vertical-align: top;\n",
       "    }\n",
       "\n",
       "    .dataframe thead th {\n",
       "        text-align: right;\n",
       "    }\n",
       "</style>\n",
       "<table border=\"1\" class=\"dataframe\">\n",
       "  <thead>\n",
       "    <tr style=\"text-align: right;\">\n",
       "      <th></th>\n",
       "      <th>question</th>\n",
       "    </tr>\n",
       "  </thead>\n",
       "  <tbody>\n",
       "    <tr>\n",
       "      <th>0</th>\n",
       "      <td>[你, 知, 道, 计, 算, 机, 应, 用, 基, 础, 这, 本, 书, 的, 作, ...</td>\n",
       "    </tr>\n",
       "    <tr>\n",
       "      <th>1</th>\n",
       "      <td>[计, 算, 机, 应, 用, 基, 础, 这, 本, 书, 的, 出, 版, 社, 是, ...</td>\n",
       "    </tr>\n",
       "    <tr>\n",
       "      <th>2</th>\n",
       "      <td>[告, 诉, 我, 高, 等, 数, 学, 的, 出, 版, 时, 间, 是, 什, 么, ...</td>\n",
       "    </tr>\n",
       "    <tr>\n",
       "      <th>3</th>\n",
       "      <td>[我, 想, 知, 道, 戴, 维, 斯, 是, 什, 么, 国, 家, 的, 人, ？]</td>\n",
       "    </tr>\n",
       "    <tr>\n",
       "      <th>4</th>\n",
       "      <td>[你, 知, 道, 高, 等, 数, 学, 的, i, s, b, n, 吗, ？]</td>\n",
       "    </tr>\n",
       "  </tbody>\n",
       "</table>\n",
       "</div>"
      ],
      "text/plain": [
       "                                            question\n",
       "0  [你, 知, 道, 计, 算, 机, 应, 用, 基, 础, 这, 本, 书, 的, 作, ...\n",
       "1  [计, 算, 机, 应, 用, 基, 础, 这, 本, 书, 的, 出, 版, 社, 是, ...\n",
       "2  [告, 诉, 我, 高, 等, 数, 学, 的, 出, 版, 时, 间, 是, 什, 么, ...\n",
       "3      [我, 想, 知, 道, 戴, 维, 斯, 是, 什, 么, 国, 家, 的, 人, ？]\n",
       "4         [你, 知, 道, 高, 等, 数, 学, 的, i, s, b, n, 吗, ？]"
      ]
     },
     "execution_count": 7,
     "metadata": {},
     "output_type": "execute_result"
    }
   ],
   "source": [
    "NER_testing_data.head()"
   ]
  },
  {
   "cell_type": "code",
   "execution_count": 8,
   "metadata": {},
   "outputs": [],
   "source": [
    "NER_testing_data.to_csv('04_NER_testing_data.csv', index = False, encoding='utf_8_sig')"
   ]
  }
 ],
 "metadata": {
  "kernelspec": {
   "display_name": "Python 3",
   "language": "python",
   "name": "python3"
  },
  "language_info": {
   "codemirror_mode": {
    "name": "ipython",
    "version": 3
   },
   "file_extension": ".py",
   "mimetype": "text/x-python",
   "name": "python",
   "nbconvert_exporter": "python",
   "pygments_lexer": "ipython3",
   "version": "3.6.5"
  }
 },
 "nbformat": 4,
 "nbformat_minor": 2
}
