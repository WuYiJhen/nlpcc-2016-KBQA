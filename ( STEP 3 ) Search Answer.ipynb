{
 "cells": [
  {
   "cell_type": "markdown",
   "metadata": {},
   "source": [
    "## 以命名實體集問題關聯性在知識庫尋找解答"
   ]
  },
  {
   "cell_type": "code",
   "execution_count": 1,
   "metadata": {},
   "outputs": [],
   "source": [
    "import sys\n",
    "import os\n",
    "import pandas as pd\n",
    "import numpy as np\n",
    "import time\n",
    "import csv"
   ]
  },
  {
   "cell_type": "markdown",
   "metadata": {},
   "source": [
    "#### 將知識庫轉為 csv "
   ]
  },
  {
   "cell_type": "code",
   "execution_count": 2,
   "metadata": {},
   "outputs": [
    {
     "name": "stdout",
     "output_type": "stream",
     "text": [
      "10000000\n",
      "20000000\n",
      "30000000\n",
      "40000000\n"
     ]
    },
    {
     "data": {
      "text/plain": [
       "266.2538595199585"
      ]
     },
     "execution_count": 2,
     "metadata": {},
     "output_type": "execute_result"
    }
   ],
   "source": [
    "file = './nlpcc-iccpol-2016.kbqa.kb'\n",
    "\n",
    "kb = []\n",
    "\n",
    "k = 0\n",
    "\n",
    "ptm = time.time()\n",
    "\n",
    "with open(file,'r', encoding=\"utf-8\") as f:\n",
    "\n",
    "    for line in f:\n",
    "        \n",
    "        kb.append(line.strip().split(' ||| '))\n",
    "        \n",
    "        if ( k + 1 ) % 10000000 == 0 :\n",
    "            \n",
    "            print( k + 1 )\n",
    "        \n",
    "        k += 1\n",
    "        \n",
    "time.time() - ptm"
   ]
  },
  {
   "cell_type": "code",
   "execution_count": 3,
   "metadata": {
    "scrolled": false
   },
   "outputs": [
    {
     "name": "stdout",
     "output_type": "stream",
     "text": [
      "5000000\n",
      "10000000\n",
      "15000000\n",
      "20000000\n",
      "25000000\n",
      "30000000\n",
      "35000000\n",
      "40000000\n"
     ]
    },
    {
     "data": {
      "text/plain": [
       "141.39819049835205"
      ]
     },
     "execution_count": 3,
     "metadata": {},
     "output_type": "execute_result"
    }
   ],
   "source": [
    "ptm = time.time()\n",
    "\n",
    "with open('kb1.csv','w',newline ='', encoding='utf-8-sig') as f:\n",
    "        \n",
    "        mywrite = csv.writer(f)\n",
    "        \n",
    "        for i in range(len(kb)) :\n",
    "            \n",
    "            if i == 0 :\n",
    "                \n",
    "                mywrite.writerow(['entity','relation','answer'])\n",
    "                \n",
    "            else :\n",
    "                \n",
    "                mywrite.writerow(kb[i])\n",
    "                \n",
    "                \n",
    "            if (i+1) % 5000000 == 0 :\n",
    "                \n",
    "                print( i + 1 )\n",
    "        \n",
    "        \n",
    "time.time() - ptm"
   ]
  },
  {
   "cell_type": "code",
   "execution_count": 4,
   "metadata": {},
   "outputs": [
    {
     "data": {
      "text/html": [
       "<div>\n",
       "<style scoped>\n",
       "    .dataframe tbody tr th:only-of-type {\n",
       "        vertical-align: middle;\n",
       "    }\n",
       "\n",
       "    .dataframe tbody tr th {\n",
       "        vertical-align: top;\n",
       "    }\n",
       "\n",
       "    .dataframe thead th {\n",
       "        text-align: right;\n",
       "    }\n",
       "</style>\n",
       "<table border=\"1\" class=\"dataframe\">\n",
       "  <thead>\n",
       "    <tr style=\"text-align: right;\">\n",
       "      <th></th>\n",
       "      <th>entity</th>\n",
       "      <th>relation</th>\n",
       "      <th>answer</th>\n",
       "    </tr>\n",
       "  </thead>\n",
       "  <tbody>\n",
       "    <tr>\n",
       "      <th>0</th>\n",
       "      <td>空气干燥</td>\n",
       "      <td>中文名</td>\n",
       "      <td>空气干燥</td>\n",
       "    </tr>\n",
       "    <tr>\n",
       "      <th>1</th>\n",
       "      <td>空气干燥</td>\n",
       "      <td>外文名</td>\n",
       "      <td>air drying</td>\n",
       "    </tr>\n",
       "    <tr>\n",
       "      <th>2</th>\n",
       "      <td>空气干燥</td>\n",
       "      <td>形式</td>\n",
       "      <td>两个</td>\n",
       "    </tr>\n",
       "    <tr>\n",
       "      <th>3</th>\n",
       "      <td>空气干燥</td>\n",
       "      <td>作用</td>\n",
       "      <td>将空气中的水份去除</td>\n",
       "    </tr>\n",
       "    <tr>\n",
       "      <th>4</th>\n",
       "      <td>罗育德</td>\n",
       "      <td>别名</td>\n",
       "      <td>罗育德</td>\n",
       "    </tr>\n",
       "  </tbody>\n",
       "</table>\n",
       "</div>"
      ],
      "text/plain": [
       "  entity relation      answer\n",
       "0   空气干燥      中文名        空气干燥\n",
       "1   空气干燥      外文名  air drying\n",
       "2   空气干燥       形式          两个\n",
       "3   空气干燥       作用   将空气中的水份去除\n",
       "4    罗育德       别名         罗育德"
      ]
     },
     "execution_count": 4,
     "metadata": {},
     "output_type": "execute_result"
    }
   ],
   "source": [
    "kbdf = pd.read_csv('kb.csv')\n",
    "kbdf.head()"
   ]
  },
  {
   "cell_type": "code",
   "execution_count": 5,
   "metadata": {},
   "outputs": [
    {
     "data": {
      "text/html": [
       "<div>\n",
       "<style scoped>\n",
       "    .dataframe tbody tr th:only-of-type {\n",
       "        vertical-align: middle;\n",
       "    }\n",
       "\n",
       "    .dataframe tbody tr th {\n",
       "        vertical-align: top;\n",
       "    }\n",
       "\n",
       "    .dataframe thead th {\n",
       "        text-align: right;\n",
       "    }\n",
       "</style>\n",
       "<table border=\"1\" class=\"dataframe\">\n",
       "  <thead>\n",
       "    <tr style=\"text-align: right;\">\n",
       "      <th></th>\n",
       "      <th>question</th>\n",
       "      <th>entity</th>\n",
       "      <th>purpose</th>\n",
       "    </tr>\n",
       "  </thead>\n",
       "  <tbody>\n",
       "    <tr>\n",
       "      <th>0</th>\n",
       "      <td>['你', '知', '道', '计', '算', '机', '应', '用', '基', ...</td>\n",
       "      <td>计算机应用基础</td>\n",
       "      <td>[你, 知, 道, 这, 本, 书, 的, 作, 者, 是, 谁, 吗, ？]</td>\n",
       "    </tr>\n",
       "    <tr>\n",
       "      <th>1</th>\n",
       "      <td>['计', '算', '机', '应', '用', '基', '础', '这', '本', ...</td>\n",
       "      <td>计算机应用基础</td>\n",
       "      <td>[这, 本, 书, 的, 出, 版, 社, 是, 那, 个, ？]</td>\n",
       "    </tr>\n",
       "    <tr>\n",
       "      <th>2</th>\n",
       "      <td>['告', '诉', '我', '高', '等', '数', '学', '的', '出', ...</td>\n",
       "      <td>高等数学</td>\n",
       "      <td>[告, 诉, 我, 的, 出, 版, 时, 间, 是, 什, 么, 时, 候, ？]</td>\n",
       "    </tr>\n",
       "    <tr>\n",
       "      <th>3</th>\n",
       "      <td>['我', '想', '知', '道', '戴', '维', '斯', '是', '什', ...</td>\n",
       "      <td>戴维斯</td>\n",
       "      <td>[我, 想, 知, 道, 是, 什, 么, 国, 家, 的, 人, ？]</td>\n",
       "    </tr>\n",
       "    <tr>\n",
       "      <th>4</th>\n",
       "      <td>['你', '知', '道', '高', '等', '数', '学', '的', 'i', ...</td>\n",
       "      <td>高等数学</td>\n",
       "      <td>[你, 知, 道, 的, i, s, b, n, 吗, ？]</td>\n",
       "    </tr>\n",
       "  </tbody>\n",
       "</table>\n",
       "</div>"
      ],
      "text/plain": [
       "                                            question   entity  \\\n",
       "0  ['你', '知', '道', '计', '算', '机', '应', '用', '基', ...  计算机应用基础   \n",
       "1  ['计', '算', '机', '应', '用', '基', '础', '这', '本', ...  计算机应用基础   \n",
       "2  ['告', '诉', '我', '高', '等', '数', '学', '的', '出', ...     高等数学   \n",
       "3  ['我', '想', '知', '道', '戴', '维', '斯', '是', '什', ...      戴维斯   \n",
       "4  ['你', '知', '道', '高', '等', '数', '学', '的', 'i', ...     高等数学   \n",
       "\n",
       "                                      purpose  \n",
       "0     [你, 知, 道, 这, 本, 书, 的, 作, 者, 是, 谁, 吗, ？]  \n",
       "1           [这, 本, 书, 的, 出, 版, 社, 是, 那, 个, ？]  \n",
       "2  [告, 诉, 我, 的, 出, 版, 时, 间, 是, 什, 么, 时, 候, ？]  \n",
       "3        [我, 想, 知, 道, 是, 什, 么, 国, 家, 的, 人, ？]  \n",
       "4              [你, 知, 道, 的, i, s, b, n, 吗, ？]  "
      ]
     },
     "execution_count": 5,
     "metadata": {},
     "output_type": "execute_result"
    }
   ],
   "source": [
    "relation_test = pd.read_csv('04_Entity_testing_data.csv')\n",
    "relation_test['purpose'] = relation_test['purpose'].apply(lambda x : eval(x))\n",
    "uniq_kb_entity = list(set(kbdf['entity']))\n",
    "uniq_kb_entity[0] = 'NNAANNA'\n",
    "relation_test.head()"
   ]
  },
  {
   "cell_type": "markdown",
   "metadata": {},
   "source": [
    "#### 找出命名實體後，以 testing 的 purpose 以字串相似度找出最高的知識庫 relation ，最後得出問題解答。"
   ]
  },
  {
   "cell_type": "code",
   "execution_count": 6,
   "metadata": {},
   "outputs": [],
   "source": [
    "import operator\n",
    "\n",
    "import re\n",
    "\n",
    "a = dict(zip(kbdf['entity'], kbdf.index))\n",
    "\n",
    "a = dict(sorted(a.items(), key=operator.itemgetter(1)))\n",
    "\n",
    "b = list(a.values())"
   ]
  },
  {
   "cell_type": "code",
   "execution_count": 7,
   "metadata": {
    "scrolled": true
   },
   "outputs": [
    {
     "name": "stderr",
     "output_type": "stream",
     "text": [
      "C:\\Users\\a0972\\Anaconda3\\lib\\site-packages\\numpy\\core\\fromnumeric.py:51: FutureWarning: 'argmax' is deprecated, use 'idxmax' instead. The behavior of 'argmax'\n",
      "will be corrected to return the positional maximum in the future.\n",
      "Use 'series.values.argmax' to get the position of the maximum now.\n",
      "  return getattr(obj, method)(*args, **kwds)\n"
     ]
    },
    {
     "name": "stdout",
     "output_type": "stream",
     "text": [
      "200\n",
      "400\n",
      "600\n",
      "800\n",
      "1000\n",
      "1200\n",
      "1400\n",
      "1600\n",
      "1800\n",
      "2000\n",
      "2200\n",
      "2400\n",
      "2600\n",
      "2800\n",
      "3000\n",
      "3200\n",
      "3400\n",
      "3600\n",
      "3800\n",
      "4000\n",
      "4200\n",
      "4400\n",
      "4600\n",
      "4800\n",
      "5000\n",
      "5200\n",
      "5400\n",
      "5600\n",
      "5800\n",
      "6000\n",
      "6200\n",
      "6400\n",
      "6600\n",
      "6800\n",
      "7000\n",
      "7200\n",
      "7400\n",
      "7600\n",
      "7800\n",
      "8000\n",
      "8200\n",
      "8400\n",
      "8600\n",
      "8800\n",
      "9000\n",
      "9200\n",
      "9400\n",
      "9600\n",
      "9800\n"
     ]
    },
    {
     "data": {
      "text/plain": [
       "506.27555203437805"
      ]
     },
     "execution_count": 7,
     "metadata": {},
     "output_type": "execute_result"
    }
   ],
   "source": [
    "import re\n",
    "\n",
    "import math\n",
    "\n",
    "from difflib import SequenceMatcher\n",
    "\n",
    "def similar(a, b):\n",
    "    return SequenceMatcher(None, a, b).ratio()\n",
    "\n",
    "not_in_kb_index = []\n",
    "\n",
    "entity, relation, answer = [], [], []\n",
    "\n",
    "ptm = time.time()\n",
    "\n",
    "for i in range(len(relation_test)) :\n",
    "      \n",
    "    try:\n",
    "        \n",
    "        Entity = re.sub(\"《|》\", \"\", relation_test['entity'][i])\n",
    "               \n",
    "        inin = b.index(a[Entity])\n",
    "    \n",
    "        if inin == 0 :\n",
    "\n",
    "            start = 0\n",
    "\n",
    "        else :\n",
    "\n",
    "            start = b[b.index(a[Entity]) - 1] + 1\n",
    "        \n",
    "        df = kbdf.loc[start:a[Entity]]\n",
    "               \n",
    "        kk = df['relation'].apply(lambda x : similar(x, ''.join(relation_test['purpose'][i])))\n",
    "        \n",
    "        entity.append(Entity)\n",
    "        \n",
    "        relation.append(df['relation'][np.argmax(kk)])\n",
    "        \n",
    "        answer.append(df['answer'][np.argmax(kk)])\n",
    "        \n",
    "    except:\n",
    "        \n",
    "        not_in_kb_index.append(i)\n",
    "        \n",
    "        entity.append(Entity)\n",
    "        \n",
    "        relation.append('不知道')\n",
    "        \n",
    "        answer.append('不知道')\n",
    "        \n",
    "        pass\n",
    "    \n",
    "    if (i+1) % 200 == 0 : \n",
    "    \n",
    "        print(i+1)\n",
    "        \n",
    "relation_test['entity'] = entity\n",
    "relation_test['relation'] = relation\n",
    "relation_test['answer'] = answer\n",
    "\n",
    "\n",
    "time.time() - ptm"
   ]
  },
  {
   "cell_type": "code",
   "execution_count": 8,
   "metadata": {},
   "outputs": [
    {
     "data": {
      "text/html": [
       "<div>\n",
       "<style scoped>\n",
       "    .dataframe tbody tr th:only-of-type {\n",
       "        vertical-align: middle;\n",
       "    }\n",
       "\n",
       "    .dataframe tbody tr th {\n",
       "        vertical-align: top;\n",
       "    }\n",
       "\n",
       "    .dataframe thead th {\n",
       "        text-align: right;\n",
       "    }\n",
       "</style>\n",
       "<table border=\"1\" class=\"dataframe\">\n",
       "  <thead>\n",
       "    <tr style=\"text-align: right;\">\n",
       "      <th></th>\n",
       "      <th>question</th>\n",
       "      <th>entity</th>\n",
       "      <th>purpose</th>\n",
       "      <th>relation</th>\n",
       "      <th>answer</th>\n",
       "    </tr>\n",
       "  </thead>\n",
       "  <tbody>\n",
       "    <tr>\n",
       "      <th>0</th>\n",
       "      <td>['你', '知', '道', '计', '算', '机', '应', '用', '基', ...</td>\n",
       "      <td>计算机应用基础</td>\n",
       "      <td>[你, 知, 道, 这, 本, 书, 的, 作, 者, 是, 谁, 吗, ？]</td>\n",
       "      <td>作者</td>\n",
       "      <td>刘晓斌、魏智荣、刘庆生</td>\n",
       "    </tr>\n",
       "    <tr>\n",
       "      <th>1</th>\n",
       "      <td>['计', '算', '机', '应', '用', '基', '础', '这', '本', ...</td>\n",
       "      <td>计算机应用基础</td>\n",
       "      <td>[这, 本, 书, 的, 出, 版, 社, 是, 那, 个, ？]</td>\n",
       "      <td>出版社</td>\n",
       "      <td>化学工业出版社</td>\n",
       "    </tr>\n",
       "    <tr>\n",
       "      <th>2</th>\n",
       "      <td>['告', '诉', '我', '高', '等', '数', '学', '的', '出', ...</td>\n",
       "      <td>高等数学</td>\n",
       "      <td>[告, 诉, 我, 的, 出, 版, 时, 间, 是, 什, 么, 时, 候, ？]</td>\n",
       "      <td>出版时间</td>\n",
       "      <td>2014年3月</td>\n",
       "    </tr>\n",
       "    <tr>\n",
       "      <th>3</th>\n",
       "      <td>['我', '想', '知', '道', '戴', '维', '斯', '是', '什', ...</td>\n",
       "      <td>戴维斯</td>\n",
       "      <td>[我, 想, 知, 道, 是, 什, 么, 国, 家, 的, 人, ？]</td>\n",
       "      <td>国籍</td>\n",
       "      <td>荷兰</td>\n",
       "    </tr>\n",
       "    <tr>\n",
       "      <th>4</th>\n",
       "      <td>['你', '知', '道', '高', '等', '数', '学', '的', 'i', ...</td>\n",
       "      <td>高等数学</td>\n",
       "      <td>[你, 知, 道, 的, i, s, b, n, 吗, ？]</td>\n",
       "      <td>别名</td>\n",
       "      <td>高等数学</td>\n",
       "    </tr>\n",
       "  </tbody>\n",
       "</table>\n",
       "</div>"
      ],
      "text/plain": [
       "                                            question   entity  \\\n",
       "0  ['你', '知', '道', '计', '算', '机', '应', '用', '基', ...  计算机应用基础   \n",
       "1  ['计', '算', '机', '应', '用', '基', '础', '这', '本', ...  计算机应用基础   \n",
       "2  ['告', '诉', '我', '高', '等', '数', '学', '的', '出', ...     高等数学   \n",
       "3  ['我', '想', '知', '道', '戴', '维', '斯', '是', '什', ...      戴维斯   \n",
       "4  ['你', '知', '道', '高', '等', '数', '学', '的', 'i', ...     高等数学   \n",
       "\n",
       "                                      purpose relation       answer  \n",
       "0     [你, 知, 道, 这, 本, 书, 的, 作, 者, 是, 谁, 吗, ？]       作者  刘晓斌、魏智荣、刘庆生  \n",
       "1           [这, 本, 书, 的, 出, 版, 社, 是, 那, 个, ？]      出版社      化学工业出版社  \n",
       "2  [告, 诉, 我, 的, 出, 版, 时, 间, 是, 什, 么, 时, 候, ？]     出版时间      2014年3月  \n",
       "3        [我, 想, 知, 道, 是, 什, 么, 国, 家, 的, 人, ？]       国籍           荷兰  \n",
       "4              [你, 知, 道, 的, i, s, b, n, 吗, ？]       别名         高等数学  "
      ]
     },
     "execution_count": 8,
     "metadata": {},
     "output_type": "execute_result"
    }
   ],
   "source": [
    "relation_test.head()"
   ]
  },
  {
   "cell_type": "code",
   "execution_count": 9,
   "metadata": {},
   "outputs": [],
   "source": [
    "relation_test.to_csv('04_answer_prediction_data.csv', index = False, encoding='utf_8_sig')"
   ]
  },
  {
   "cell_type": "code",
   "execution_count": 10,
   "metadata": {},
   "outputs": [],
   "source": [
    "output = open('./submit/04_Kbqa.testing-data',\"w+\", encoding=\"utf-8\")\n",
    "\n",
    "question_str = \"<question\"\n",
    "answer_str = \"<answer\"\n",
    "start_str = \"=============\"\n",
    "\n",
    "k = 0\n",
    "\n",
    "j = 1\n",
    "\n",
    "with open('04_Kbqa.testing-data','r', encoding=\"utf-8\") as f:\n",
    "    \n",
    "    for line in f : \n",
    "        \n",
    "        if question_str in line :\n",
    "            \n",
    "            output.write(line)\n",
    "            \n",
    "            output.write(\"<triple id=%s>\"%(j) + '\\t' + entity[k] + ' ||| ' + relation[k] + ' ||| ' + answer[k] + '\\n')\n",
    "        \n",
    "            j += 1    \n",
    "            \n",
    "        if answer_str in line :\n",
    "            \n",
    "            output.write(line[:-1] + answer[k] + '\\n')\n",
    "            \n",
    "            aa = line\n",
    "            \n",
    "            k += 1\n",
    "            \n",
    "        if start_str in line :\n",
    "           \n",
    "            output.write(line)\n",
    "            \n",
    "        "
   ]
  }
 ],
 "metadata": {
  "kernelspec": {
   "display_name": "Python 3",
   "language": "python",
   "name": "python3"
  },
  "language_info": {
   "codemirror_mode": {
    "name": "ipython",
    "version": 3
   },
   "file_extension": ".py",
   "mimetype": "text/x-python",
   "name": "python",
   "nbconvert_exporter": "python",
   "pygments_lexer": "ipython3",
   "version": "3.6.5"
  }
 },
 "nbformat": 4,
 "nbformat_minor": 2
}
